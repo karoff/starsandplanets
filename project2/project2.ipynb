{
 "cells": [
  {
   "cell_type": "markdown",
   "metadata": {},
   "source": [
    "# Stjerner og Planeter Projekt 2: MESA\n",
    "\n",
    "## Introduction\n",
    "\n",
    "I dette projekt skal I arbejde med stjerneudvikling og til det skal I bruge Python programpakken [MESA](http://mesa.sourceforge.net). \n",
    "\n",
    "Projektet vil foregår i gruppe på 2-3 personer og hver gruppe skal vælge et emne som de skal arbejde med og fremlægge for resten af holdet. \n",
    "\n",
    "Der kan vælges mellem følgende emner:\n",
    "\n",
    "    Solens udvikling frem til brint forbrænding i kernen stopper\n",
    "    Solens udvikling frem til helium forbrænding i kernen stopper\n",
    "    Solens udvikling frem til et kompakt objekt\n",
    "    Heliumglimt \n",
    "    Helium hovedserie\n",
    "    Termiske pulser\n"
   ]
  },
  {
   "cell_type": "markdown",
   "metadata": {},
   "source": [
    "## Astronomi server\n",
    "I skal køre MESA på Astronomi gruppens servere. I kan finde en beskrivelse her: [https://phys.au.dk/sac/sac-internal-pages/computer-systems/](https://phys.au.dk/sac/sac-internal-pages/computer-systems/). Vær opmærksom på, at disse sidder kun kan tilgås fra universitetet eller via VPN.\n",
    "\n",
    "Hvis I bruger en windown computer skal I installere [http://mobaxterm.mobatek.net/](http://mobaxterm.mobatek.net/). Har I en mac kan i bruge terminalen eller evt. installere [iTerm2](https://www.iterm2.com).\n",
    "\n",
    "Der efter skal I logge på den server der hedder 'ast1d.phys.au.dk'. Bruger I MobaXtern skal I huske at aktivere 'x11-forwarding'. Bruger I en terminal på mac skal I skrive 'ssh -Y brugernavn@ast1d.phys.au.dk'.\n",
    "\n",
    "For at aktiviere MESA skal I nu skrive: "
   ]
  },
  {
   "cell_type": "markdown",
   "metadata": {},
   "source": [
    "    source /opt/mesa/init_mesa_student.csh"
   ]
  },
  {
   "cell_type": "markdown",
   "metadata": {},
   "source": [
    "## Tutorial\n",
    "I er nu lykkes med at installere MESA. Skal I prøve at køre MESA. Dette gøres ved at kopiere en arbejdsmappe, kompilere filerne i denne mappe og køre dem. Alt dette gøres fra en terminal I har åbnet gennem Docker eller Jupyter Notebook."
   ]
  },
  {
   "cell_type": "markdown",
   "metadata": {},
   "source": [
    "    cp -r $MESA_DIR/star/work tutorial\n",
    "    cd tutorial\n",
    "    ./mk\n",
    "    ./rn"
   ]
  },
  {
   "cell_type": "markdown",
   "metadata": {},
   "source": [
    "MESA vil nu forsøge at få en stjernemodel til at konvergere. Når dette er sket, vil to billeders vises på skærmen. Hvis dette ikke sker, så fortvivl ikke. Jeg kunne ikke få det til at ske, når jeg brugte Docker på min Mac, men det er der en løsning for.\n",
    "\n",
    "Alt arbejdet med MESA foregår ved at redigere i en konfigurationsfil kaldet 'inlist'. Den 'inlist' der ligger i tutorial kalder to andre konfigurationsfiler: 'inlist_project' og 'inlist_pgstar'. 'inlist_project' sætter parameterne for den undiklingsmodel man vil køre, mens 'inlist_pgstar' sætter parameterne for visualiseringen. Det er i den sidste fil, der findes en løsning, hvis der ikke kommer to billeder op på skærmen. Man kan da bede MESA om at gemme alle billederne. Dette gøres ved at indsætte følgende i 'inlist_pgstar' eller i 'inlist' lige under, hvor 'inlist_pgstar' kaldes (dette kan gøres ved at åbne filen gennem Docker eller Jupyter Notebook):"
   ]
  },
  {
   "cell_type": "markdown",
   "metadata": {},
   "source": [
    "      HR_file_flag = .true\n",
    "      HR_file_dir = 'png'\n",
    "      HR_file_prefix = 'HR'\n",
    "      TRho_file_flag = .true\n",
    "      TRho_file_dir = 'png'\n",
    "      TRho_file_prefix = 'TRho'"
   ]
  },
  {
   "cell_type": "markdown",
   "metadata": {},
   "source": [
    "Derefter køres MESA igen ved at skrive './mk' og './rn' i terminalen. Dette skulle lave en mappe 'png', hvor i alle billeder bliver gemt. \n",
    "\n",
    "Kigger vi istedet på 'inlist_project', kan vi læse, at vi laver en udviklingsmodel for et 15 solmasse stjerne frem til ZAMS. Vi kan også læse, at vi stopper modellen, når det centrale brint indholde er kommet under 0.1%. Dette er jo sådan set ikke så spændende for os. Vi vil f.eks. gerne se på, hvordan en 1 solmasse stjerne udvikler sig frem til hovedserien. Her har MESA gjodt det let for os og lavet en række eksemple på de mest almindelige udviklingsmodeller man kan forestille sig. Disse ligge i mappen '$MESA_DIR/star/test_suite'. Her ligger der f.eks. en udviklingsmodel der hedder: '1M_pre_ms_to_wd', hvilket jo netop er det vi har brug for. Denne kan køres ved at skrive:"
   ]
  },
  {
   "cell_type": "markdown",
   "metadata": {},
   "source": [
    "    cp -r $MESA_DIR/star/work 1M_pre_ms_to_wd\n",
    "    cd 1M_pre_ms_to_wd\n",
    "    ./clean\n",
    "    ./mk\n",
    "    ./rn"
   ]
  },
  {
   "cell_type": "markdown",
   "metadata": {},
   "source": [
    "Denne model tager, afhængeligt af hvor meget computer kraft man har, noget længere tid at køre, men faktisk behøver man ikke køre den, det der er gjort for os i forvejen. Det er kun, når man laver ændringer man skal køre modellen igen. Kigger man i den konfigurationsfil der hedder 'inlist_start', man se, at der er en del flere parametere her, men princippet er det samme. \n",
    "\n",
    "En af de ting man kunne finde på at ændre, var de ting der bliver vist i figurene. Her kunne man f.eks. slette udkometeringen fra den linje (linje 121), der hedder 'Grid6_file_flag = .true' i 'inlist_start'. Dette gøres ved at slette '!'."
   ]
  },
  {
   "cell_type": "markdown",
   "metadata": {},
   "source": [
    "## Arbejde med emner\n",
    "\n",
    "I skal nu igang med at arbejde med de emner I har valgt. De fleste af jer vil kunne lave hele jeres projekt ved at bruge '1M_pre_ms_to_wd'. For de sidste to emner er det dog nødvendigt, at se på lidt mere massive stjerner. Her kan man f.eks. bruge den der hedder '25M_pre_ms_to_core_collapse'. Den kan dog godt tage lidt lang tid at køre. Ventetiden kan så fordrives med at læse nogle af artiklerne bag MESA: [Artikel 1](https://arxiv.org/abs/1009.1622), [Artikel 2](https://arxiv.org/abs/1301.0319). I disse artikler er der en række figure, der ville være rigtig gode at bruge i præsentationerne. Dette gælder også for dem der har valgt emner om Solen. I kan også finde rigtig meget god baggrundsinformation i denne [præsentation](http://www.astro.wisc.edu/~townsend/resource/talks/uw-mesa.pdf) af Rich Townsend."
   ]
  },
  {
   "cell_type": "code",
   "execution_count": null,
   "metadata": {},
   "outputs": [],
   "source": []
  }
 ],
 "metadata": {
  "kernelspec": {
   "display_name": "Python 3",
   "language": "python",
   "name": "python3"
  },
  "language_info": {
   "codemirror_mode": {
    "name": "ipython",
    "version": 3
   },
   "file_extension": ".py",
   "mimetype": "text/x-python",
   "name": "python",
   "nbconvert_exporter": "python",
   "pygments_lexer": "ipython3",
   "version": "3.8.3"
  }
 },
 "nbformat": 4,
 "nbformat_minor": 2
}
